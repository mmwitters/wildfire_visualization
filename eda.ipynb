{
 "cells": [
  {
   "cell_type": "code",
   "execution_count": 2,
   "metadata": {},
   "outputs": [],
   "source": [
    "import numpy as np\n",
    "import pandas as pd\n",
    "import geopandas as gpd"
   ]
  },
  {
   "cell_type": "code",
   "execution_count": 5,
   "metadata": {},
   "outputs": [
    {
     "data": {
      "text/html": [
       "<div>\n",
       "<style scoped>\n",
       "    .dataframe tbody tr th:only-of-type {\n",
       "        vertical-align: middle;\n",
       "    }\n",
       "\n",
       "    .dataframe tbody tr th {\n",
       "        vertical-align: top;\n",
       "    }\n",
       "\n",
       "    .dataframe thead th {\n",
       "        text-align: right;\n",
       "    }\n",
       "</style>\n",
       "<table border=\"1\" class=\"dataframe\">\n",
       "  <thead>\n",
       "    <tr style=\"text-align: right;\">\n",
       "      <th></th>\n",
       "      <th>Table</th>\n",
       "      <th>Variable</th>\n",
       "      <th>Description</th>\n",
       "    </tr>\n",
       "  </thead>\n",
       "  <tbody>\n",
       "    <tr>\n",
       "      <th>0</th>\n",
       "      <td>Fires</td>\n",
       "      <td>FOD_ID</td>\n",
       "      <td>Unique numeric record identifier.</td>\n",
       "    </tr>\n",
       "    <tr>\n",
       "      <th>1</th>\n",
       "      <td>Fires</td>\n",
       "      <td>FPA_ID</td>\n",
       "      <td>Unique identifier that contains information ne...</td>\n",
       "    </tr>\n",
       "    <tr>\n",
       "      <th>2</th>\n",
       "      <td>Fires</td>\n",
       "      <td>SOURCE_SYSTEM_TYPE</td>\n",
       "      <td>Type of source database or system that the rec...</td>\n",
       "    </tr>\n",
       "    <tr>\n",
       "      <th>3</th>\n",
       "      <td>Fires</td>\n",
       "      <td>SOURCE_SYSTEM</td>\n",
       "      <td>Name of or other identifier for source databas...</td>\n",
       "    </tr>\n",
       "    <tr>\n",
       "      <th>4</th>\n",
       "      <td>Fires</td>\n",
       "      <td>NWCG_REPORTING_AGENCY</td>\n",
       "      <td>Active National Wildlife Coordinating Group (N...</td>\n",
       "    </tr>\n",
       "  </tbody>\n",
       "</table>\n",
       "</div>"
      ],
      "text/plain": [
       "   Table               Variable  \\\n",
       "0  Fires                 FOD_ID   \n",
       "1  Fires                 FPA_ID   \n",
       "2  Fires     SOURCE_SYSTEM_TYPE   \n",
       "3  Fires          SOURCE_SYSTEM   \n",
       "4  Fires  NWCG_REPORTING_AGENCY   \n",
       "\n",
       "                                         Description  \n",
       "0                  Unique numeric record identifier.  \n",
       "1  Unique identifier that contains information ne...  \n",
       "2  Type of source database or system that the rec...  \n",
       "3  Name of or other identifier for source databas...  \n",
       "4  Active National Wildlife Coordinating Group (N...  "
      ]
     },
     "execution_count": 5,
     "metadata": {},
     "output_type": "execute_result"
    }
   ],
   "source": [
    "var_desc = pd.read_csv('/Users/madelinewitters/wildfire_data/Data 2/_variable_descriptions.csv')\n",
    "var_desc.head()"
   ]
  }
 ],
 "metadata": {
  "kernelspec": {
   "display_name": "wildfires_proj",
   "language": "python",
   "name": "python3"
  },
  "language_info": {
   "codemirror_mode": {
    "name": "ipython",
    "version": 3
   },
   "file_extension": ".py",
   "mimetype": "text/x-python",
   "name": "python",
   "nbconvert_exporter": "python",
   "pygments_lexer": "ipython3",
   "version": "3.12.4"
  },
  "orig_nbformat": 4
 },
 "nbformat": 4,
 "nbformat_minor": 2
}
